{
 "cells": [
  {
   "cell_type": "code",
   "execution_count": 22,
   "id": "fda2c458-e0b3-422f-8cb3-3c474d50e916",
   "metadata": {},
   "outputs": [],
   "source": [
    "# STEP 1: Import Libraries\n",
    "import pandas as pd\n",
    "import re\n",
    "import spacy\n",
    "from sklearn.feature_extraction.text import CountVectorizer\n",
    "import matplotlib.pyplot as plt"
   ]
  },
  {
   "cell_type": "code",
   "execution_count": 23,
   "id": "8f43f390-8232-4628-8b25-e3c9819b58e5",
   "metadata": {},
   "outputs": [
    {
     "name": "stdout",
     "output_type": "stream",
     "text": [
      "📥 Loading data...\n"
     ]
    }
   ],
   "source": [
    "# STEP 2: Load Raw Data\n",
    "print(\"📥 Loading data...\")\n",
    "df = pd.read_excel(\"D:/Hackathon Dataset.xlsx\", sheet_name=\"Raw Data\")"
   ]
  },
  {
   "cell_type": "code",
   "execution_count": 24,
   "id": "5964a13a-30b0-4c0e-885e-d1f603dc8836",
   "metadata": {},
   "outputs": [
    {
     "name": "stdout",
     "output_type": "stream",
     "text": [
      "🏭 Filtering for manufacturing records...\n"
     ]
    }
   ],
   "source": [
    "# STEP 3: Filter for Manufacturing Industry\n",
    "print(\"🏭 Filtering for manufacturing records...\")\n",
    "df = df[df['NAICS Desc'].str.contains('Manufacturing', na=False, case=False)]"
   ]
  },
  {
   "cell_type": "code",
   "execution_count": 25,
   "id": "af46af5e-6bf4-4604-8710-6e003b34b4f3",
   "metadata": {},
   "outputs": [
    {
     "name": "stdout",
     "output_type": "stream",
     "text": [
      "🖐️ Filtering for hand-related injuries...\n"
     ]
    }
   ],
   "source": [
    "# STEP 4: Filter for Hand-Related Injuries\n",
    "print(\"🖐️ Filtering for hand-related injuries...\")\n",
    "keywords = ['hand', 'finger', 'thumb']\n",
    "df = df[\n",
    "    df['General Part of Body'].str.contains('|'.join(keywords), na=False, case=False) |\n",
    "    df['Final Narrative'].str.contains('|'.join(keywords), na=False, case=False)\n",
    "]"
   ]
  },
  {
   "cell_type": "code",
   "execution_count": 26,
   "id": "e0d09045-760e-4764-a239-00938b964cc0",
   "metadata": {},
   "outputs": [
    {
     "name": "stdout",
     "output_type": "stream",
     "text": [
      "📅 Cleaning date formats...\n"
     ]
    }
   ],
   "source": [
    "# STEP 5: Convert EventDate and Extract Month\n",
    "print(\"📅 Cleaning date formats...\")\n",
    "df['EventDate'] = pd.to_datetime(df['EventDate'], errors='coerce')\n",
    "df['Month'] = df['EventDate'].dt.to_period('M')"
   ]
  },
  {
   "cell_type": "code",
   "execution_count": 27,
   "id": "76960d79-d6be-43eb-a540-e78ae050b3fa",
   "metadata": {},
   "outputs": [
    {
     "name": "stdout",
     "output_type": "stream",
     "text": [
      "🧹 Dropping rows with missing narratives...\n"
     ]
    }
   ],
   "source": [
    "# STEP 6: Drop rows with missing Final Narrative\n",
    "print(\"🧹 Dropping rows with missing narratives...\")\n",
    "df = df.dropna(subset=['Final Narrative'])\n"
   ]
  },
  {
   "cell_type": "code",
   "execution_count": 28,
   "id": "f874e232-f8ac-4a7d-8e74-fb1afbc02185",
   "metadata": {},
   "outputs": [
    {
     "name": "stdout",
     "output_type": "stream",
     "text": [
      "🧼 Cleaning text for NLP...\n"
     ]
    }
   ],
   "source": [
    "# STEP 7: Clean Narrative Text for NLP\n",
    "print(\"🧼 Cleaning text for NLP...\")\n",
    "df['Cleaned Narrative'] = df['Final Narrative'].str.lower().apply(\n",
    "    lambda x: re.sub(r'[^a-z\\s]', '', x)\n",
    ")\n"
   ]
  },
  {
   "cell_type": "code",
   "execution_count": 29,
   "id": "7559038b-3a27-4fcf-afa9-e3e178c8daa8",
   "metadata": {},
   "outputs": [
    {
     "name": "stdout",
     "output_type": "stream",
     "text": [
      "🧠 Tagging likely cause of injury...\n"
     ]
    }
   ],
   "source": [
    "# STEP 8: Tag Likely Cause (Expanded Rule-Based)\n",
    "print(\"🧠 Tagging likely cause of injury...\")\n",
    "def tag_cause(text):\n",
    "    if pd.isnull(text): return 'Unknown'\n",
    "    text = text.lower()\n",
    "\n",
    "    # Safety & Behavior Triggers\n",
    "    if 'slip' in text or 'fall' in text:\n",
    "        return 'Slipping/Tripping'\n",
    "    if 'unguarded' in text or 'guard' in text:\n",
    "        return 'Unguarded Equipment'\n",
    "    if 'pinch' in text or 'crush' in text or 'jammed' in text:\n",
    "        return 'Pinch/Crush Injury'\n",
    "    if 'caught' in text:\n",
    "        return 'Caught-In Machinery'\n",
    "\n",
    "    # Machine/Tool Involvement\n",
    "    if 'saw' in text:\n",
    "        return 'Machine Saw'\n",
    "    if 'press' in text or 'die' in text:\n",
    "        return 'Hydraulic/Trim Press'\n",
    "    if 'lathe' in text:\n",
    "        return 'Lathe Machine'\n",
    "    if 'knife' in text or 'blade' in text or 'cutter' in text:\n",
    "        return 'Knife/Blade'\n",
    "    if 'conveyor' in text:\n",
    "        return 'Conveyor'\n",
    "    if 'drill' in text:\n",
    "        return 'Drill'\n",
    "    if 'grinder' in text:\n",
    "        return 'Grinder'\n",
    "    if 'shear' in text:\n",
    "        return 'Shearing Machine'\n",
    "    if 'bender' in text:\n",
    "        return 'Bender Machine'\n",
    "    if 'roll former' in text:\n",
    "        return 'Roll Forming Machine'\n",
    "    if 'bagging' in text or 'packaging' in text:\n",
    "        return 'Packaging Machine'\n",
    "    if 'sandblast' in text:\n",
    "        return 'Sandblasting Equipment'\n",
    "    if 'crane' in text or 'hoist' in text:\n",
    "        return 'Crane/Lift'\n",
    "    if 'switch' in text or 'panel' in text or 'control' in text:\n",
    "        return 'Electrical Controls'\n",
    "\n",
    "    return 'Other'\n",
    "\n",
    "df['Likely Cause'] = df['Cleaned Narrative'].apply(tag_cause)\n"
   ]
  },
  {
   "cell_type": "code",
   "execution_count": 30,
   "id": "3b734ea6-5662-47db-9dde-c85d8456f4cc",
   "metadata": {},
   "outputs": [
    {
     "name": "stdout",
     "output_type": "stream",
     "text": [
      "🔧 Extracting machine/object type from narrative...\n"
     ]
    }
   ],
   "source": [
    "# STEP 9: Tag Cleaned Source (Expanded Machinery Detection)\n",
    "print(\"🔧 Extracting machine/object type from narrative...\")\n",
    "def clean_source_from_narrative(text):\n",
    "    if pd.isnull(text): return \"Unknown\"\n",
    "    text = text.lower()\n",
    "\n",
    "    if 'saw' in text:\n",
    "        return 'Machine Saw'\n",
    "    if 'knife' in text or 'blade' in text or 'cutter' in text:\n",
    "        return 'Knife/Blade'\n",
    "    if 'press' in text or 'die' in text or 'trim die' in text:\n",
    "        return 'Hydraulic/Trim Press'\n",
    "    if 'roll former' in text:\n",
    "        return 'Roll Forming Machine'\n",
    "    if 'punch' in text:\n",
    "        return 'Punch Press'\n",
    "    if 'mold' in text:\n",
    "        return 'Molding Machine'\n",
    "    if 'lathe' in text:\n",
    "        return 'Lathe Machine'\n",
    "    if 'drill' in text:\n",
    "        return 'Drill'\n",
    "    if 'grinder' in text:\n",
    "        return 'Grinder'\n",
    "    if 'shear' in text:\n",
    "        return 'Shearing Machine'\n",
    "    if 'mill' in text or 'milling' in text:\n",
    "        return 'Milling Machine'\n",
    "    if 'conveyor' in text:\n",
    "        return 'Conveyor'\n",
    "    if 'bagging' in text:\n",
    "        return 'Packaging Machine'\n",
    "    if 'canning line' in text:\n",
    "        return 'Canning Line'\n",
    "    if 'bender' in text:\n",
    "        return 'Bender Machine'\n",
    "    if 'winder' in text:\n",
    "        return 'Winder/Rewinder'\n",
    "    if 'marking' in text or 'labeler' in text:\n",
    "        return 'Marking/Labeling Machine'\n",
    "    if 'sandblast' in text:\n",
    "        return 'Sandblasting Equipment'\n",
    "    if 'cleaning' in text:\n",
    "        return 'Cleaning Equipment'\n",
    "    if 'switch' in text or 'panel' in text or 'control' in text:\n",
    "        return 'Electrical Controls'\n",
    "    if 'crane' in text or 'hoist' in text or 'lift' in text:\n",
    "        return 'Crane/Lift'\n",
    "    if 'pinch' in text:\n",
    "        return 'Pinch Point'\n",
    "\n",
    "    return 'Other'\n",
    "\n",
    "df['Cleaned Source'] = df['Cleaned Narrative'].apply(clean_source_from_narrative)\n"
   ]
  },
  {
   "cell_type": "code",
   "execution_count": 31,
   "id": "423dc5d7-14db-44eb-8e98-ba976a15cc44",
   "metadata": {},
   "outputs": [
    {
     "name": "stdout",
     "output_type": "stream",
     "text": [
      "🧾 Extracting top keywords...\n"
     ]
    },
    {
     "data": {
      "image/png": "[encoded data removed]",
      "text/plain": [
       "<Figure size 640x480 with 1 Axes>"
      ]
     },
     "metadata": {},
     "output_type": "display_data"
    }
   ],
   "source": [
    "# STEP 10: Keyword Extraction using CountVectorizer\n",
    "print(\"🧾 Extracting top keywords...\")\n",
    "vectorizer = CountVectorizer(stop_words='english', max_features=30)\n",
    "X = vectorizer.fit_transform(df['Cleaned Narrative'])\n",
    "keywords = vectorizer.get_feature_names_out()\n",
    "keyword_freq = X.toarray().sum(axis=0)\n",
    "keyword_df = pd.DataFrame({'Keyword': keywords, 'Frequency': keyword_freq})\n",
    "keyword_df = keyword_df.sort_values(by='Frequency', ascending=False)\n",
    "\n",
    "# Optional: Show top keywords chart\n",
    "keyword_df.head(15).plot(x='Keyword', y='Frequency', kind='bar', title=\"Top Keywords in Narratives\")\n",
    "plt.tight_layout()\n",
    "plt.show()\n"
   ]
  },
  {
   "cell_type": "code",
   "execution_count": 32,
   "id": "db9eb797-b080-40c1-b309-c1b610ad9c24",
   "metadata": {},
   "outputs": [
    {
     "name": "stdout",
     "output_type": "stream",
     "text": [
      "📦 Extracting entities using spaCy...\n"
     ]
    }
   ],
   "source": [
    "# STEP 11: Entity Extraction using spaCy (BONUS)\n",
    "print(\"📦 Extracting entities using spaCy...\")\n",
    "nlp = spacy.load(\"en_core_web_sm\")\n",
    "\n",
    "def extract_entities(text):\n",
    "    doc = nlp(text)\n",
    "    entities = [ent.text for ent in doc.ents]\n",
    "    return ', '.join(entities) if entities else \"None\"\n",
    "\n",
    "df['Narrative Entities'] = df['Cleaned Narrative'].apply(extract_entities)"
   ]
  },
  {
   "cell_type": "code",
   "execution_count": 35,
   "id": "a70926fa-e8d6-4a50-99c7-b9a53a80dd9d",
   "metadata": {},
   "outputs": [
    {
     "name": "stdout",
     "output_type": "stream",
     "text": [
      "💾 Exporting final file for Power BI...\n",
      "✅ Done! File saved as: hand_injuries_with_machines.csv\n"
     ]
    }
   ],
   "source": [
    "# STEP 12: Final Export for Power BI\n",
    "print(\"💾 Exporting final file for Power BI...\")\n",
    "df.to_csv(\"hand_injuries_with_machines.csv\", index=False)\n",
    "print(\"✅ Done! File saved as: hand_injuries_with_machines.csv\")\n"
   ]
  },
  {
   "cell_type": "code",
   "execution_count": null,
   "id": "12d1f35b-6926-40dc-a4fa-8c72ee255d14",
   "metadata": {},
   "outputs": [],
   "source": []
  }
 ],
 "metadata": {
  "kernelspec": {
   "display_name": "Python 3 (ipykernel)",
   "language": "python",
   "name": "python3"
  },
  "language_info": {
   "codemirror_mode": {
    "name": "ipython",
    "version": 3
   },
   "file_extension": ".py",
   "mimetype": "text/x-python",
   "name": "python",
   "nbconvert_exporter": "python",
   "pygments_lexer": "ipython3",
   "version": "3.12.7"
  }
 },
 "nbformat": 4,
 "nbformat_minor": 5
}
